{
 "cells": [
  {
   "cell_type": "markdown",
   "metadata": {},
   "source": [
    "## QR Codes generation With Python"
   ]
  },
  {
   "cell_type": "markdown",
   "metadata": {},
   "source": [
    "QR code stands for Quick Response Code and it is used in many scenarios these days. It first appeared in Japan in 1994.QR codes can thus be used to encode\n",
    "\n",
    "- Contact details\n",
    "- Facebook,Instagram,Twitter , WhatsApp ids and more\n",
    "- Event Details\n",
    "- Youtube links\n",
    "- Product details and the list goes on."
   ]
  },
  {
   "cell_type": "code",
   "execution_count": 1,
   "metadata": {},
   "outputs": [],
   "source": [
    "import pyqrcode \n",
    "from pyqrcode import QRCode \n",
    "from IPython.display import SVG, display"
   ]
  },
  {
   "cell_type": "code",
   "execution_count": 2,
   "metadata": {},
   "outputs": [],
   "source": [
    "# String which represent the QR code \n",
    "s = \"https://github.com/michaelcheungkm?tab=repositories\""
   ]
  },
  {
   "cell_type": "code",
   "execution_count": 3,
   "metadata": {},
   "outputs": [],
   "source": [
    "# Generate QR code \n",
    "url = pyqrcode.create(s)"
   ]
  },
  {
   "cell_type": "code",
   "execution_count": 4,
   "metadata": {},
   "outputs": [],
   "source": [
    "# Create and save the png file naming \"myqr.png\" \n",
    "url.svg(\"myqr.svg\", scale = 8)"
   ]
  },
  {
   "cell_type": "code",
   "execution_count": 5,
   "metadata": {},
   "outputs": [
    {
     "data": {
      "image/svg+xml": [
       "<svg class=\"pyqrcode\" height=\"392\" width=\"392\" xmlns=\"http://www.w3.org/2000/svg\"><path class=\"pyqrline\" d=\"M4 4.5h7m1 0h1m1 0h2m4 0h1m4 0h1m1 0h1m1 0h2m1 0h1m2 0h1m2 0h7m-41 1h1m5 0h1m1 0h1m1 0h2m1 0h1m1 0h1m2 0h1m1 0h3m1 0h5m1 0h1m3 0h1m5 0h1m-41 1h1m1 0h3m1 0h1m1 0h1m1 0h1m3 0h3m1 0h1m4 0h3m2 0h1m2 0h1m2 0h1m1 0h3m1 0h1m-41 1h1m1 0h3m1 0h1m2 0h3m2 0h2m1 0h2m3 0h3m1 0h1m3 0h1m3 0h1m1 0h3m1 0h1m-41 1h1m1 0h3m1 0h1m2 0h1m2 0h1m1 0h1m1 0h4m3 0h1m1 0h1m2 0h1m2 0h2m1 0h1m1 0h3m1 0h1m-41 1h1m5 0h1m1 0h5m2 0h2m1 0h2m1 0h4m1 0h2m1 0h1m4 0h1m5 0h1m-41 1h7m1 0h1m1 0h1m1 0h1m1 0h1m1 0h1m1 0h1m1 0h1m1 0h1m1 0h1m1 0h1m1 0h1m1 0h1m1 0h1m1 0h7m-33 1h2m1 0h2m1 0h3m2 0h1m1 0h2m1 0h2m1 0h1m-26 1h3m1 0h1m1 0h1m2 0h1m3 0h2m1 0h1m1 0h2m3 0h1m3 0h1m1 0h1m1 0h3m2 0h3m-40 1h1m5 0h3m2 0h4m2 0h1m1 0h6m2 0h1m1 0h3m1 0h1m1 0h1m1 0h1m1 0h1m-38 1h2m1 0h2m3 0h2m1 0h1m1 0h1m2 0h1m5 0h4m1 0h1m1 0h5m-35 1h3m2 0h1m2 0h4m3 0h2m1 0h1m1 0h2m2 0h3m2 0h2m2 0h1m1 0h1m-38 1h2m2 0h4m2 0h2m1 0h3m2 0h1m2 0h1m1 0h7m1 0h1m5 0h4m-41 1h1m3 0h1m2 0h1m4 0h2m1 0h1m1 0h1m1 0h1m1 0h1m3 0h1m1 0h1m1 0h2m1 0h5m2 0h2m-41 1h5m1 0h3m3 0h2m2 0h4m5 0h4m2 0h1m1 0h1m1 0h1m1 0h2m-37 1h1m6 0h1m6 0h5m1 0h1m1 0h1m1 0h2m3 0h2m1 0h2m1 0h1m-37 1h1m2 0h1m1 0h2m2 0h1m1 0h2m4 0h2m2 0h1m1 0h1m1 0h2m1 0h1m1 0h1m1 0h1m1 0h1m2 0h1m-38 1h2m2 0h1m2 0h1m2 0h3m3 0h1m2 0h3m1 0h3m1 0h2m1 0h2m1 0h7m-41 1h1m2 0h1m2 0h4m2 0h2m1 0h1m2 0h4m3 0h3m1 0h1m2 0h1m1 0h1m1 0h1m1 0h1m-39 1h2m7 0h2m2 0h2m1 0h2m1 0h3m1 0h1m3 0h1m1 0h2m5 0h2m1 0h2m-41 1h2m4 0h1m2 0h2m1 0h3m3 0h2m4 0h4m10 0h1m1 0h1m-38 1h1m1 0h1m1 0h7m2 0h3m1 0h1m1 0h1m1 0h3m1 0h10m1 0h2m-41 1h3m1 0h1m1 0h1m2 0h3m9 0h1m1 0h3m1 0h2m1 0h1m1 0h1m1 0h1m-34 1h1m6 0h2m1 0h3m2 0h1m2 0h1m1 0h1m2 0h3m4 0h1m2 0h1m1 0h2m2 0h1m-41 1h1m1 0h1m2 0h2m1 0h2m7 0h1m2 0h2m1 0h1m2 0h4m8 0h2m-39 1h1m1 0h2m2 0h3m2 0h2m3 0h5m3 0h2m1 0h1m2 0h1m2 0h4m1 0h2m-41 1h1m1 0h7m1 0h1m1 0h2m2 0h4m5 0h3m4 0h1m2 0h1m-35 1h3m3 0h1m2 0h1m7 0h1m1 0h1m1 0h1m1 0h1m1 0h2m3 0h2m4 0h1m2 0h1m-41 1h1m3 0h1m1 0h1m1 0h1m1 0h1m2 0h3m1 0h2m1 0h6m3 0h1m1 0h1m5 0h3m-40 1h2m1 0h1m3 0h1m1 0h1m1 0h1m3 0h8m2 0h1m1 0h2m1 0h1m3 0h1m1 0h3m1 0h1m-41 1h1m1 0h1m1 0h1m1 0h3m3 0h1m2 0h3m1 0h1m1 0h1m2 0h1m4 0h2m1 0h7m-39 1h1m1 0h2m3 0h3m2 0h1m4 0h1m2 0h2m1 0h2m1 0h1m1 0h1m1 0h2m1 0h3m1 0h1m-38 1h1m1 0h3m1 0h4m3 0h2m3 0h1m1 0h1m2 0h1m1 0h2m1 0h2m2 0h5m1 0h1m-31 1h4m1 0h1m2 0h1m2 0h1m2 0h3m3 0h1m1 0h1m1 0h1m3 0h2m1 0h2m-41 1h7m2 0h1m4 0h2m2 0h2m1 0h1m3 0h1m1 0h2m1 0h3m1 0h1m1 0h4m-40 1h1m5 0h1m2 0h1m2 0h2m1 0h4m3 0h3m2 0h2m2 0h2m3 0h2m1 0h2m-41 1h1m1 0h3m1 0h1m1 0h2m9 0h1m1 0h1m2 0h1m2 0h1m2 0h1m1 0h5m1 0h2m-40 1h1m1 0h3m1 0h1m1 0h1m4 0h1m2 0h4m1 0h3m4 0h1m4 0h1m1 0h1m1 0h2m1 0h1m-41 1h1m1 0h3m1 0h1m1 0h4m1 0h2m1 0h6m1 0h1m1 0h3m3 0h1m1 0h7m-40 1h1m5 0h1m2 0h3m2 0h2m2 0h4m1 0h2m1 0h3m1 0h1m1 0h3m1 0h2m1 0h1m-40 1h7m3 0h2m5 0h2m2 0h1m1 0h1m1 0h1m3 0h1m1 0h1m3 0h4\" stroke=\"#000\" transform=\"scale(8)\"/></svg>"
      ],
      "text/plain": [
       "<IPython.core.display.SVG object>"
      ]
     },
     "metadata": {},
     "output_type": "display_data"
    }
   ],
   "source": [
    "display(SVG('myqr.svg'))"
   ]
  },
  {
   "cell_type": "markdown",
   "metadata": {},
   "source": [
    "That is all about the generation and we now have an image with a link to this post. If you have any QRCode scanner app , you can scan the header image for this post and you will find out that it is actually a link to this post."
   ]
  },
  {
   "cell_type": "code",
   "execution_count": null,
   "metadata": {},
   "outputs": [],
   "source": []
  }
 ],
 "metadata": {
  "kernelspec": {
   "display_name": "Python 3",
   "language": "python",
   "name": "python3"
  },
  "language_info": {
   "codemirror_mode": {
    "name": "ipython",
    "version": 3
   },
   "file_extension": ".py",
   "mimetype": "text/x-python",
   "name": "python",
   "nbconvert_exporter": "python",
   "pygments_lexer": "ipython3",
   "version": "3.7.1"
  }
 },
 "nbformat": 4,
 "nbformat_minor": 2
}
